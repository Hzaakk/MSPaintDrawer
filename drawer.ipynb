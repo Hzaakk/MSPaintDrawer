{
 "cells": [
  {
   "cell_type": "markdown",
   "metadata": {},
   "source": [
    "<i>If drawing does not work properly for you and skips points, increase p.PAUSE</i>"
   ]
  },
  {
   "cell_type": "code",
   "execution_count": null,
   "metadata": {},
   "outputs": [],
   "source": [
    "import cv2\n",
    "import numpy as np\n",
    "import pyautogui as p\n",
    "import time\n",
    "import keyboard\n",
    "import os"
   ]
  },
  {
   "cell_type": "markdown",
   "metadata": {},
   "source": [
    "<BIG><b>DRAWING IMAGES</b></BIG>"
   ]
  },
  {
   "cell_type": "code",
   "execution_count": null,
   "metadata": {},
   "outputs": [],
   "source": [
    "'''\n",
    "    Preprocess image and make contours (getting vertices of edges).\n",
    "'''\n",
    "image_location = 'eye.jpg'\n",
    "if image_location not in os.listdir():\n",
    "    raise Exception(\"Please specify a valid file path for your image\")\n",
    "\n",
    "im = cv2.imread(image_location, 0)\n",
    "im = cv2.resize(im, None, None, 1200/im.shape[1], 1200/im.shape[1]) # make x axis have length 1200\n",
    "\n",
    "# adjusting values gives slightly different results\n",
    "im = cv2.medianBlur(im, 7)\n",
    "im = cv2.bilateralFilter(im, 4, 100, 100)\n",
    "im = cv2.dilate(im, np.ones((5,5)))\n",
    "im = cv2.GaussianBlur(im, (7,7), 4)\n",
    "\n",
    "th = cv2.adaptiveThreshold(im, 255, cv2.ADAPTIVE_THRESH_MEAN_C, cv2.THRESH_BINARY, 11, 3) # higher last value = lower noise\n",
    "contours, hier = cv2.findContours(th, cv2.RETR_TREE, cv2.CHAIN_APPROX_SIMPLE)"
   ]
  },
  {
   "cell_type": "code",
   "execution_count": null,
   "metadata": {},
   "outputs": [],
   "source": [
    "cv2.imshow('contours', cv2.drawContours(np.zeros(im.shape)+255, contours, -1, (0,255,0), ))\n",
    "cv2.imshow('preprocessed im', im)\n",
    "cv2.imshow('thresholded im', th)\n",
    "\n",
    "cv2.waitKey(0)\n",
    "cv2.destroyAllWindows()"
   ]
  },
  {
   "cell_type": "code",
   "execution_count": null,
   "metadata": {},
   "outputs": [],
   "source": [
    "'''\n",
    "    Draw the image. Top left of image will be at the initial mouse position. Dont move your mouse. Press escape to exit.\n",
    "'''\n",
    "p.PAUSE = 0.011 # time between each mouse action. Lower values will get buggier\n",
    "d = 5 # minimum distance between vertices to draw. lower value = longer time to draw but more accurate drawing\n",
    "scale = 1 # size of image\n",
    "time.sleep(3)\n",
    "start = p.position()\n",
    "prev_coor = (np.inf, np.inf) # previous coordinate to calculate distance from\n",
    "d = d ** 2 # for euclidean distance (a**2 + b**2 = d ** 2)\n",
    "brk = False # true means it exits the loop\n",
    "for cont in contours:\n",
    "    p.moveTo(cont[0][0,0] * scale + start.x, cont[0][0,1] * scale + start.y) # move to start of contour\n",
    "    p.mouseDown()\n",
    "    for coor in cont[1:]: \n",
    "        if (coor[0,0] - prev_coor[0])**2 + (coor[0,1] - prev_coor[1])**2 > d: # check distance from previous coordinate\n",
    "            prev_coor = coor[0]\n",
    "            p.moveTo(coor[0,0] * scale + start.x, coor[0,1] *  scale + start.y) # move cursor\n",
    "        if keyboard.is_pressed('esc'): # exit when escape is pressed\n",
    "            brk = True\n",
    "            break\n",
    "    p.mouseUp()\n",
    "    if brk:\n",
    "        break\n",
    "    "
   ]
  },
  {
   "cell_type": "markdown",
   "metadata": {},
   "source": [
    "<BIG><b>DRAWING LETTERS</b></BIG>"
   ]
  },
  {
   "cell_type": "code",
   "execution_count": null,
   "metadata": {},
   "outputs": [],
   "source": [
    "'''\n",
    "    Sequence of coordinates (y-down, x-right) to draw each letter\n",
    "'''\n",
    "letters = {\n",
    "    'A':((4,0),(0,0),(0,4),(2,4),(2,0),(2,4),(4,4)),\n",
    "    'B':((0,0),(0,4),(2,4),(2,1),(2,4),(4,4),(4,0),(0,0)),\n",
    "    'C':((0,4),(0,0),(4,0),(4,4)),\n",
    "    'D':((0,0),(0,3),(1,4),(4,4),(4,0),(0,0)),\n",
    "    'E':((2,0),(2,4),(0,4),(0,0),(4,0),(4,4)),\n",
    "    'F':((0,4),(0,0),(2,0),(2,4),(2,0),(4,0)),\n",
    "    'G':((0,4),(0,0),(4,0),(4,4),(2,4),(2,2)),\n",
    "    'H':((0,0),(4,0),(2,0),(2,4),(0,4),(4,4)),\n",
    "    'I':((0,0),(0,4),(0,2),(4,2),(4,0),(4,4)),\n",
    "    'J':((0,0),(0,4),(0,2),(4,2),(4,0),(2,0)),\n",
    "    'K':((0,0),(4,0),(2,0),(0,4),(2,0),(4,4)),\n",
    "    'L':((0,0),(4,0),(4,4)),\n",
    "    'M':((4,0),(0,0),(2,2),(0,4),(4,4)),\n",
    "    'N':((4,0),(0,0),(4,4),(0,4)),\n",
    "    'O':((0,0),(4,0),(4,4),(0,4),(0,0)),\n",
    "    'P':((4,0),(0,0),(0,4),(2,4),(2,0)),\n",
    "    'Q':((4,4),(4,0),(0,0),(0,4),(4,4),(2,2)),\n",
    "    'R':((4,0),(0,0),(0,4),(2,4),(2,0),(2,2),(4,4)),\n",
    "    'S':((4,0),(4,4),(2,4),(2,0),(0,0),(0,4)),\n",
    "    'T':((0,0),(0,4),(0,2),(4,2)),\n",
    "    'U':((0,0),(4,0),(4,4),(0,4)),\n",
    "    'V':((0,0),(4,2),(0,4)),\n",
    "    'W':((0,0),(4,0),(2,2),(4,4),(0,4)),\n",
    "    'X':((0,0),(4,4),(2,2),(4,0),(0,4)),\n",
    "    'Y':((0,0),(2,2),(0,4),(4,0)),\n",
    "    'Z':((0,0),(0,4),(4,0),(4,4)),\n",
    "}"
   ]
  },
  {
   "cell_type": "code",
   "execution_count": null,
   "metadata": {},
   "outputs": [],
   "source": [
    "'''\n",
    "    Draw text\n",
    "'''\n",
    "p.PAUSE = 0.03 # time between each mouse action\n",
    "text = 'the quick\\nbrown fox jumps\\nover the\\nlazy dog'.upper()\n",
    "size = 5 # size of letter / 4 in pixels\n",
    "\n",
    "time.sleep(3)\n",
    "orig_pos = p.position()\n",
    "pos = [orig_pos[0], orig_pos[1]] # allows it to be mutable\n",
    "brk = False\n",
    "for char in text:\n",
    "    if char is '\\n': # move cursor to 1 char length under original position for a new line\n",
    "        pos[1] += int(5 * size)\n",
    "        pos[0] = orig_pos[0]\n",
    "        continue\n",
    "        \n",
    "    if char is ' ': # move cursor right by 1 char\n",
    "        pos[0] += int(5*size)\n",
    "        continue\n",
    "        \n",
    "    coors = letters[char]\n",
    "    p.moveTo(pos[0] + coors[0][1] * size, pos[1] + coors[0][0] * size) # move to start of letter\n",
    "    p.mouseDown()\n",
    "    for coor in coors[1:]:\n",
    "        p.moveTo(pos[0] + coor[1] * size, pos[1] + coor[0] * size) # move cursor\n",
    "        if keyboard.is_pressed('esc'): # exit when escape is pressed\n",
    "            brk = True\n",
    "            break\n",
    "    if brk:\n",
    "        break\n",
    "    p.mouseUp()\n",
    "    pos[0] += int(5 * size) # change position for next character\n"
   ]
  },
  {
   "cell_type": "code",
   "execution_count": null,
   "metadata": {},
   "outputs": [],
   "source": []
  }
 ],
 "metadata": {
  "kernelspec": {
   "display_name": "Python 3",
   "language": "python",
   "name": "python3"
  },
  "language_info": {
   "codemirror_mode": {
    "name": "ipython",
    "version": 3
   },
   "file_extension": ".py",
   "mimetype": "text/x-python",
   "name": "python",
   "nbconvert_exporter": "python",
   "pygments_lexer": "ipython3",
   "version": "3.6.7"
  }
 },
 "nbformat": 4,
 "nbformat_minor": 4
}
